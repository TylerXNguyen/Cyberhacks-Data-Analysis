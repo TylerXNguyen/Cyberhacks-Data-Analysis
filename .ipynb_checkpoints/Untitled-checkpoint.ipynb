{
 "cells": [
  {
   "cell_type": "markdown",
   "id": "14c2aa9a-944d-4783-8977-17ddb42c572e",
   "metadata": {},
   "source": [
    "# Cybersecurity breaches in large companies\n",
    "### Using data from https://en.wikipedia.org/wiki/List_of_data_breaches#cite_note-250\n",
    "#### Updated in real time"
   ]
  },
  {
   "cell_type": "code",
   "execution_count": 348,
   "id": "422aa0cb-b042-4c10-ba62-6ce050a0bda6",
   "metadata": {},
   "outputs": [],
   "source": [
    "# IMPORT LIBRARIES USED\n",
    "\n",
    "\n",
    "# Webscrapping cyber security data\n",
    "import pandas as pd\n",
    "from bs4 import BeautifulSoup\n",
    "import requests\n",
    "# Visualizations\n",
    "import matplotlib.pyplot as plt\n",
    "import seaborn as sns; sns.set()\n",
    "import plotly.graph_objects as go\n",
    "# Cleaning\n",
    "import numpy as np\n",
    "import statistics\n",
    "# ML models\n",
    "from sklearn.linear_model import LinearRegression"
   ]
  },
  {
   "cell_type": "code",
   "execution_count": 349,
   "id": "c8d63389-e3f4-405b-ab0d-23bbe9251a14",
   "metadata": {},
   "outputs": [],
   "source": [
    "# WEBSCRAPPING CYBER SECURITY DATA\n",
    "\n",
    "def getTableFromURL(url, type_):\n",
    "    # PURPOSE:\n",
    "        # retrieves the first table from a website as a df\n",
    "    # INPUT: \n",
    "        # url (string) - link to website with table\n",
    "        # type_ (dict) - class attribute from html of table in page\n",
    "            # exp: {\"class\": \"wikitable sortable\"}\n",
    "    # OUTPUT:\n",
    "        # df (df) - pd.DataFrame table with headers\n",
    "        \n",
    "    # from url, gets table with header and cells into df\n",
    "    page = requests.get(url)\n",
    "    soup = BeautifulSoup(page.text, \"lxml\")\n",
    "    table = soup.find(\"table\", type_) # (change this) depend on table\n",
    "    # get headers\n",
    "    headers = []\n",
    "    for col in table.find_all('th'):\n",
    "        # gets each col label (title) from table\n",
    "        title = col.text\n",
    "        headers.append(title.strip())\n",
    "    # create df from headers and data\n",
    "    df = pd.DataFrame(columns = headers)\n",
    "    for row in table.find_all('tr')[1:]:\n",
    "        # getting data from each rows after the header\n",
    "        data = row.find_all('td')\n",
    "        row_data = [td.text.strip() for td in data]\n",
    "        df.loc[len(df)] = row_data # appends new row to df\n",
    "    return df"
   ]
  },
  {
   "cell_type": "code",
   "execution_count": 350,
   "id": "62c368f6-357b-40ba-b453-2691b2654903",
   "metadata": {},
   "outputs": [
    {
     "data": {
      "text/html": [
       "<div>\n",
       "<style scoped>\n",
       "    .dataframe tbody tr th:only-of-type {\n",
       "        vertical-align: middle;\n",
       "    }\n",
       "\n",
       "    .dataframe tbody tr th {\n",
       "        vertical-align: top;\n",
       "    }\n",
       "\n",
       "    .dataframe thead th {\n",
       "        text-align: right;\n",
       "    }\n",
       "</style>\n",
       "<table border=\"1\" class=\"dataframe\">\n",
       "  <thead>\n",
       "    <tr style=\"text-align: right;\">\n",
       "      <th></th>\n",
       "      <th>Entity</th>\n",
       "      <th>Year</th>\n",
       "      <th>Records</th>\n",
       "      <th>Organization type</th>\n",
       "      <th>Method</th>\n",
       "      <th>Sources</th>\n",
       "    </tr>\n",
       "  </thead>\n",
       "  <tbody>\n",
       "    <tr>\n",
       "      <th>0</th>\n",
       "      <td>21st Century Oncology</td>\n",
       "      <td>2016</td>\n",
       "      <td>2,200,000</td>\n",
       "      <td>healthcare</td>\n",
       "      <td>hacked</td>\n",
       "      <td>[5][6]</td>\n",
       "    </tr>\n",
       "    <tr>\n",
       "      <th>1</th>\n",
       "      <td>500px</td>\n",
       "      <td>2020</td>\n",
       "      <td>14,870,304</td>\n",
       "      <td>social networking</td>\n",
       "      <td>hacked</td>\n",
       "      <td>[7]</td>\n",
       "    </tr>\n",
       "    <tr>\n",
       "      <th>2</th>\n",
       "      <td>Accendo Insurance Co.</td>\n",
       "      <td>2020</td>\n",
       "      <td>175,350</td>\n",
       "      <td>healthcare</td>\n",
       "      <td>poor security</td>\n",
       "      <td>[8][9]</td>\n",
       "    </tr>\n",
       "    <tr>\n",
       "      <th>3</th>\n",
       "      <td>Adobe Systems Incorporated</td>\n",
       "      <td>2013</td>\n",
       "      <td>152,000,000</td>\n",
       "      <td>tech</td>\n",
       "      <td>hacked</td>\n",
       "      <td>[10]</td>\n",
       "    </tr>\n",
       "    <tr>\n",
       "      <th>4</th>\n",
       "      <td>Adobe Inc.</td>\n",
       "      <td>2019</td>\n",
       "      <td>7,500,000</td>\n",
       "      <td>tech</td>\n",
       "      <td>poor security</td>\n",
       "      <td>[11][12]</td>\n",
       "    </tr>\n",
       "  </tbody>\n",
       "</table>\n",
       "</div>"
      ],
      "text/plain": [
       "                       Entity  Year      Records  Organization type  \\\n",
       "0       21st Century Oncology  2016    2,200,000         healthcare   \n",
       "1                       500px  2020   14,870,304  social networking   \n",
       "2       Accendo Insurance Co.  2020      175,350         healthcare   \n",
       "3  Adobe Systems Incorporated  2013  152,000,000               tech   \n",
       "4                  Adobe Inc.  2019    7,500,000               tech   \n",
       "\n",
       "          Method   Sources  \n",
       "0         hacked    [5][6]  \n",
       "1         hacked       [7]  \n",
       "2  poor security    [8][9]  \n",
       "3         hacked      [10]  \n",
       "4  poor security  [11][12]  "
      ]
     },
     "execution_count": 350,
     "metadata": {},
     "output_type": "execute_result"
    }
   ],
   "source": [
    "df = getTableFromURL(\"https://en.wikipedia.org/wiki/List_of_data_breaches#cite_note-250\", \n",
    "                     {\"class\": \"wikitable sortable\"})\n",
    "df.head()"
   ]
  },
  {
   "cell_type": "code",
   "execution_count": 351,
   "id": "2d940c2e-680a-4ca2-b765-77f6c493a4ca",
   "metadata": {},
   "outputs": [],
   "source": [
    "# CLEANING DATA\n",
    "\n",
    "\n",
    "def colUnique(table, col):\n",
    "    # PURPOSE:\n",
    "        # Prints unique values for each column in a table\n",
    "    # INPUT: \n",
    "        # table (DF) - table to take\n",
    "        # col (string) - value for the column to use\n",
    "    # OUTPUT:\n",
    "        # a list of the distinct each col and its counts\n",
    "    \n",
    "    # gets dictionary and counts of each distinct value in col\n",
    "    distinct_counts = dict((item, list(table[col]).count(item)) for item in set(list(table[col])))\n",
    "    # sorts list by the value of the counts\n",
    "    distinct_counts = sorted(distinct_counts.items(), key=lambda x:x[1])\n",
    "    \n",
    "    # Prints first, middle, and last three items of items\n",
    "    for i in range(3):\n",
    "        print(distinct_counts[i])\n",
    "    print(\" . . . \")\n",
    "    if (len(distinct_counts) > 10):\n",
    "        # When there are more than 10 items, print middle\n",
    "        middle_index = int(len(distinct_counts) / 2)\n",
    "        for i in range(middle_index, middle_index + 3):\n",
    "            print(distinct_counts[i])\n",
    "        print(\" . . . \")\n",
    "    for i in range(len(distinct_counts) - 3, len(distinct_counts)):\n",
    "        print(distinct_counts[i])"
   ]
  },
  {
   "cell_type": "code",
   "execution_count": 352,
   "id": "dd5df38a-bd88-4908-9c36-9bd54f1f4faf",
   "metadata": {},
   "outputs": [
    {
     "name": "stdout",
     "output_type": "stream",
     "text": [
      "('', 1)\n",
      "('publicly accessible Amazon Web Services (AWS) server', 1)\n",
      "('Poor security', 1)\n",
      " . . . \n",
      "('accidentally uploaded', 1)\n",
      "('accidentally exposed', 1)\n",
      "('social engineering', 1)\n",
      " . . . \n",
      "('lost / stolen media', 33)\n",
      "('poor security', 43)\n",
      "('hacked', 192)\n"
     ]
    }
   ],
   "source": [
    "colUnique(df, \"Method\")"
   ]
  },
  {
   "cell_type": "code",
   "execution_count": 360,
   "id": "ddf94df9-532b-4347-94f3-ffb4873c97c8",
   "metadata": {},
   "outputs": [
    {
     "ename": "IndentationError",
     "evalue": "expected an indented block (308633442.py, line 17)",
     "output_type": "error",
     "traceback": [
      "\u001b[1;36m  File \u001b[1;32m\"C:\\Users\\v-tynguyen\\AppData\\Local\\Temp\\ipykernel_14920\\308633442.py\"\u001b[1;36m, line \u001b[1;32m17\u001b[0m\n\u001b[1;33m    success = []\u001b[0m\n\u001b[1;37m    ^\u001b[0m\n\u001b[1;31mIndentationError\u001b[0m\u001b[1;31m:\u001b[0m expected an indented block\n"
     ]
    }
   ],
   "source": [
    "def cleanNumerical(table, col, fix = -1):\n",
    "    # PURPOSE:\n",
    "        # Cleans an intended numerical column and shows info about how to replace bad values\n",
    "        # Also removes commas from values\n",
    "    # INPUT: \n",
    "        # table (DF) - table to take\n",
    "        # col (string) - value for the column to use\n",
    "        # fix (int/double) - default -1, if fix set other than -1, cleans bad values to integer with parameter\n",
    "    # OUTPUT:\n",
    "        # Prints Mean and median of good values\n",
    "        # Prints bad values not integer\n",
    "\n",
    "    try:\n",
    "        table[col] = table.apply(lambda x: x[col].replace(',', ''), axis=1) # removes commas from records col\n",
    "        print(\"Converted comman values\")\n",
    "    except:\n",
    "        print(\"\")\n",
    "    success = []\n",
    "    failures = []\n",
    "    for i in range(len(table)):\n",
    "        try:\n",
    "            table.loc[i, col] = int(table.loc[i, col])\n",
    "            success.append(table.loc[i, col])\n",
    "        except:\n",
    "            if fix != -1:\n",
    "                table.loc[i, col] = fix\n",
    "            else:\n",
    "                failures.append(table.loc[i, col])\n",
    "\n",
    "    print(\"Mean of correct values:\", statistics.mean(success))\n",
    "    print(\"Median of correct values:\", statistics.median(success))\n",
    "    if len(failures) > 0:\n",
    "        print(\"Items not numerical:\")\n",
    "        for i in set(failures):\n",
    "            print(i)\n",
    "    else:\n",
    "        print(\"No more bad format values\")"
   ]
  },
  {
   "cell_type": "code",
   "execution_count": 354,
   "id": "1a25e700-51b8-4f9e-860e-cfefcf19d2c8",
   "metadata": {},
   "outputs": [
    {
     "name": "stdout",
     "output_type": "stream",
     "text": [
      "Converted comman values\n",
      "Mean of correct values: 2014.1232091690545\n",
      "Median of correct values: 2014\n",
      "Items not numerical:\n",
      "2018-2019\n",
      "2019-2020\n",
      "2014 and 2015\n"
     ]
    }
   ],
   "source": [
    "# Cleaning numerical col 'Year'\n",
    "cleanNumerical(df, \"Year\")"
   ]
  },
  {
   "cell_type": "code",
   "execution_count": 355,
   "id": "d3d93fc6-d826-42b7-a79e-7e5883f99fa9",
   "metadata": {},
   "outputs": [
    {
     "name": "stdout",
     "output_type": "stream",
     "text": [
      "All values are the same type in column\n",
      "Mean of correct values: 2014.1477272727273\n",
      "Median of correct values: 2014.0\n",
      "No more bad format values\n"
     ]
    }
   ],
   "source": [
    "df.loc[df.Year == \"2018-2019\", \"Year\"] = 2018\n",
    "df.loc[df.Year == \"2019-2020\", \"Year\"] = 2019\n",
    "df.loc[df.Year == \"2014 and 2015\", \"Year\"] = 2014\n",
    "cleanNumerical(df, \"Year\")"
   ]
  },
  {
   "cell_type": "code",
   "execution_count": 356,
   "id": "f5d826e5-97bb-41d0-82cb-49ff8f5c2810",
   "metadata": {},
   "outputs": [
    {
     "name": "stdout",
     "output_type": "stream",
     "text": [
      "Converted comman values\n",
      "Mean of correct values: 43797808.68852459\n",
      "Median of correct values: 1800000\n",
      "Items not numerical:\n",
      "\n",
      "millions\n",
      "unknown (client list)\n",
      "G20 world leaders\n",
      "Source Code Compromised\n",
      "Unknown\n",
      "51 locations\n",
      "undisclosed\n",
      "9000000 (approx) - basic booking 2208 (credit card details)\n",
      "350 clients emails\n",
      "500 locations\n",
      "19 years of data\n",
      "235 GB\n",
      "over 5000000\n",
      "100 terabytes\n",
      "unknown\n",
      "250 locations\n",
      "tens of thousands\n",
      "200 stores\n",
      "10 locations\n",
      "2.5GB\n",
      "54 locations\n",
      "8 locations\n",
      "63 stores\n",
      "TBC\n",
      "93 stores\n"
     ]
    }
   ],
   "source": [
    "# Cleaning numerical col 'Year'\n",
    "cleanNumerical(df, \"Records\")"
   ]
  },
  {
   "cell_type": "code",
   "execution_count": 357,
   "id": "6f618ba6-ad91-442b-be38-68869e9a8d2c",
   "metadata": {},
   "outputs": [
    {
     "name": "stdout",
     "output_type": "stream",
     "text": [
      "Different type values in the column\n",
      "Mean of correct values: 43432894.96753247\n",
      "Median of correct values: 1900000.0\n",
      "No more bad format values\n"
     ]
    }
   ],
   "source": [
    "df.loc[df.Records == \"9000000 (approx) - basic booking 2208 (credit card details)\", \"Records\"] = 9000000\n",
    "df.loc[df.Records == \"over 5000000\", \"Records\"] = 5000000\n",
    "df.loc[df.Records == \"tens of thousands\", \"Records\"] = 5000000\n",
    "# clean rest of items\n",
    "cleanNumerical(df, \"Records\", fix = 43432894) # fix remaining bad numerial values to mean"
   ]
  },
  {
   "cell_type": "code",
   "execution_count": null,
   "id": "80bb3bb9-d5ec-4fb3-89a8-af1453899716",
   "metadata": {},
   "outputs": [],
   "source": []
  }
 ],
 "metadata": {
  "kernelspec": {
   "display_name": "Python 3 (ipykernel)",
   "language": "python",
   "name": "python3"
  },
  "language_info": {
   "codemirror_mode": {
    "name": "ipython",
    "version": 3
   },
   "file_extension": ".py",
   "mimetype": "text/x-python",
   "name": "python",
   "nbconvert_exporter": "python",
   "pygments_lexer": "ipython3",
   "version": "3.9.13"
  }
 },
 "nbformat": 4,
 "nbformat_minor": 5
}
